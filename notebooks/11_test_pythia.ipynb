{
 "cells": [
  {
   "cell_type": "code",
   "execution_count": 20,
   "metadata": {},
   "outputs": [],
   "source": [
    "import os, sys\n",
    "sys.path.append(\"..\")\n",
    "\n",
    "import torch\n",
    "\n",
    "from transformers import AutoTokenizer, GPTNeoXForCausalLM as HF_GPTNeoXForCausalLM\n",
    "from peft_pretraining.modeling_gpt_neox import GPTNeoXForCausalLM\n",
    "from optimum.bettertransformer import BetterTransformer"
   ]
  },
  {
   "cell_type": "code",
   "execution_count": 21,
   "metadata": {},
   "outputs": [
    {
     "name": "stderr",
     "output_type": "stream",
     "text": [
      "WARNING:root:For training, the BetterTransformer implementation for gpt_neox  architecture currently does not support padding as fused kernels do not support custom attention masks. Beware that passing padded batched training data may result in unexpected outputs.\n"
     ]
    }
   ],
   "source": [
    "model_name = \"EleutherAI/pythia-1.4b\"\n",
    "orig_model = BetterTransformer.transform(HF_GPTNeoXForCausalLM.from_pretrained(model_name))"
   ]
  },
  {
   "cell_type": "code",
   "execution_count": 3,
   "metadata": {},
   "outputs": [],
   "source": [
    "tokenizer = AutoTokenizer.from_pretrained(model_name)\n",
    "input_ids = tokenizer(\"Hello, my dog is cute\", return_tensors=\"pt\").input_ids"
   ]
  },
  {
   "cell_type": "code",
   "execution_count": 6,
   "metadata": {},
   "outputs": [],
   "source": [
    "orig_out = orig_model(input_ids)"
   ]
  },
  {
   "cell_type": "code",
   "execution_count": 5,
   "metadata": {},
   "outputs": [],
   "source": [
    "flashattention_model = GPTNeoXForCausalLM.from_pretrained(model_name)"
   ]
  },
  {
   "cell_type": "code",
   "execution_count": 7,
   "metadata": {},
   "outputs": [],
   "source": [
    "flashattention_out = flashattention_model(input_ids)"
   ]
  },
  {
   "cell_type": "code",
   "execution_count": 8,
   "metadata": {},
   "outputs": [
    {
     "data": {
      "text/plain": [
       "tensor([[[ 4.9625, -4.6787,  9.8467,  ..., -4.7095, -4.6852, -4.9827],\n",
       "         [ 3.3209, -4.9020,  4.0805,  ..., -5.0333, -4.8204, -4.9142],\n",
       "         [ 0.1438, -4.6176,  4.7885,  ..., -4.5550, -4.4848, -4.6801],\n",
       "         [ 5.7205, -3.3621, 12.3057,  ..., -3.1542, -3.3429, -3.3110],\n",
       "         [ 2.7800, -3.1916,  4.4636,  ..., -2.9114, -3.3944, -3.2033],\n",
       "         [ 8.5833, -2.5008, 13.7838,  ..., -2.5503, -2.4390, -2.5776]]],\n",
       "       grad_fn=<UnsafeViewBackward0>)"
      ]
     },
     "execution_count": 8,
     "metadata": {},
     "output_type": "execute_result"
    }
   ],
   "source": [
    "orig_out.logits"
   ]
  },
  {
   "cell_type": "code",
   "execution_count": 9,
   "metadata": {},
   "outputs": [
    {
     "data": {
      "text/plain": [
       "tensor([[[ 4.9625, -4.6787,  9.8467,  ..., -4.7095, -4.6852, -4.9827],\n",
       "         [ 3.3209, -4.9020,  4.0805,  ..., -5.0333, -4.8204, -4.9142],\n",
       "         [ 0.1438, -4.6176,  4.7884,  ..., -4.5550, -4.4848, -4.6801],\n",
       "         [ 5.7205, -3.3621, 12.3057,  ..., -3.1542, -3.3429, -3.3110],\n",
       "         [ 2.7800, -3.1916,  4.4636,  ..., -2.9114, -3.3944, -3.2033],\n",
       "         [ 8.5833, -2.5008, 13.7838,  ..., -2.5503, -2.4390, -2.5776]]],\n",
       "       grad_fn=<UnsafeViewBackward0>)"
      ]
     },
     "execution_count": 9,
     "metadata": {},
     "output_type": "execute_result"
    }
   ],
   "source": [
    "flashattention_out.logits"
   ]
  },
  {
   "cell_type": "code",
   "execution_count": 12,
   "metadata": {},
   "outputs": [
    {
     "data": {
      "text/plain": [
       "False"
      ]
     },
     "execution_count": 12,
     "metadata": {},
     "output_type": "execute_result"
    }
   ],
   "source": [
    "torch.allclose(orig_out.logits, flashattention_out.logits, atol=1e-4)"
   ]
  },
  {
   "cell_type": "code",
   "execution_count": 22,
   "metadata": {},
   "outputs": [
    {
     "name": "stderr",
     "output_type": "stream",
     "text": [
      "The attention mask and the pad token id were not set. As a consequence, you may observe unexpected behavior. Please pass your input's `attention_mask` to obtain reliable results.\n",
      "Setting `pad_token_id` to `eos_token_id`:0 for open-end generation.\n",
      "/mnt/shared_home/vlialin/miniconda3/envs/peft_pretraining_shala/lib/python3.10/site-packages/transformers/generation/utils.py:1369: UserWarning: Using `max_length`'s default (20) to control the generation length. This behaviour is deprecated and will be removed from the config in v5 of Transformers -- we recommend using `max_new_tokens` to control the maximum length of the generation.\n",
      "  warnings.warn(\n"
     ]
    },
    {
     "data": {
      "text/plain": [
       "'Hello, my dog is cute, but he\\'s not a dog. He\\'s a cat.\"\\n'"
      ]
     },
     "execution_count": 22,
     "metadata": {},
     "output_type": "execute_result"
    }
   ],
   "source": [
    "out_gen = orig_model.generate(input_ids)\n",
    "tokenizer.decode(out_gen[0].tolist())"
   ]
  },
  {
   "cell_type": "code",
   "execution_count": 18,
   "metadata": {},
   "outputs": [
    {
     "name": "stderr",
     "output_type": "stream",
     "text": [
      "The attention mask and the pad token id were not set. As a consequence, you may observe unexpected behavior. Please pass your input's `attention_mask` to obtain reliable results.\n",
      "Setting `pad_token_id` to `eos_token_id`:0 for open-end generation.\n"
     ]
    },
    {
     "data": {
      "text/plain": [
       "'Hello, my dog is cute, I am. I am. I am. I am. I'"
      ]
     },
     "execution_count": 18,
     "metadata": {},
     "output_type": "execute_result"
    }
   ],
   "source": [
    "out_gen = flashattention_model.generate(input_ids)\n",
    "tokenizer.decode(out_gen[0].tolist())"
   ]
  },
  {
   "cell_type": "code",
   "execution_count": null,
   "metadata": {},
   "outputs": [],
   "source": []
  }
 ],
 "metadata": {
  "kernelspec": {
   "display_name": "peft_pretraining_shala",
   "language": "python",
   "name": "python3"
  },
  "language_info": {
   "codemirror_mode": {
    "name": "ipython",
    "version": 3
   },
   "file_extension": ".py",
   "mimetype": "text/x-python",
   "name": "python",
   "nbconvert_exporter": "python",
   "pygments_lexer": "ipython3",
   "version": "3.10.11"
  },
  "orig_nbformat": 4
 },
 "nbformat": 4,
 "nbformat_minor": 2
}
