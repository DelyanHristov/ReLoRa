{
 "cells": [
  {
   "cell_type": "code",
   "execution_count": null,
   "id": "0fb0896d-c5ea-4a91-a5af-2206e057380c",
   "metadata": {
    "tags": []
   },
   "outputs": [],
   "source": [
    "from peft_pretraining.megatron_dataset import data_utils\n",
    "from peft_pretraining.megatron_dataset.arguments import NeoXArgs"
   ]
  },
  {
   "cell_type": "code",
   "execution_count": null,
   "id": "80ca8e2b-8dff-4c03-8228-3de497ff2ab3",
   "metadata": {
    "tags": []
   },
   "outputs": [],
   "source": [
    "args = NeoXArgs.from_ymls([\"../configs/pile_megatron_dataset.yaml\"])"
   ]
  },
  {
   "cell_type": "code",
   "execution_count": null,
   "id": "5dde67a5-19a6-4c34-b807-dd2d177f9b6f",
   "metadata": {
    "tags": []
   },
   "outputs": [],
   "source": [
    "train_dataloader, _, _ = data_utils.build_train_valid_test_dataloaders(neox_args=args)"
   ]
  },
  {
   "cell_type": "code",
   "execution_count": 8,
   "id": "f78bd8a1-32d9-469a-b83c-64cafd1920c4",
   "metadata": {},
   "outputs": [],
   "source": [
    "train_iterator = iter(train_dataloader)"
   ]
  },
  {
   "cell_type": "code",
   "execution_count": 9,
   "id": "72139140-b9cb-45ee-98d8-ec5d94d531f7",
   "metadata": {},
   "outputs": [],
   "source": [
    "batch = next(train_iterator)"
   ]
  },
  {
   "cell_type": "code",
   "execution_count": null,
   "id": "7a4f265b-3e8f-4f00-81ce-916477fa4668",
   "metadata": {},
   "outputs": [],
   "source": [
    "type(batch), batch.keys()"
   ]
  },
  {
   "cell_type": "code",
   "execution_count": 11,
   "id": "74f06004-4311-43bd-bf1f-bdb164facb99",
   "metadata": {},
   "outputs": [
    {
     "data": {
      "text/plain": [
       "torch.Size([1024, 2049])"
      ]
     },
     "execution_count": 11,
     "metadata": {},
     "output_type": "execute_result"
    }
   ],
   "source": [
    "batch[\"input_ids\"].shape"
   ]
  },
  {
   "cell_type": "code",
   "execution_count": null,
   "id": "cf16f858-dd7e-4ad2-8739-c0d830a00eb8",
   "metadata": {},
   "outputs": [],
   "source": [
    "for i, batch in enumerate(train_dataloader):\n",
    "    if i > 1: break\n",
    "    print(batch)"
   ]
  },
  {
   "cell_type": "code",
   "execution_count": null,
   "id": "b66a7fc4-6a67-49ae-9b09-b25a8430d6e9",
   "metadata": {},
   "outputs": [],
   "source": [
    "for i, batch in enumerate(train_dataloader):\n",
    "    if i > 1: break\n",
    "    print(batch)"
   ]
  },
  {
   "cell_type": "code",
   "execution_count": null,
   "id": "1d773d3d-9bc2-4b74-883c-48d3f4197164",
   "metadata": {},
   "outputs": [],
   "source": []
  }
 ],
 "metadata": {
  "kernelspec": {
   "display_name": "Python 3 (ipykernel)",
   "language": "python",
   "name": "python3"
  },
  "language_info": {
   "codemirror_mode": {
    "name": "ipython",
    "version": 3
   },
   "file_extension": ".py",
   "mimetype": "text/x-python",
   "name": "python",
   "nbconvert_exporter": "python",
   "pygments_lexer": "ipython3",
   "version": "3.10.12"
  }
 },
 "nbformat": 4,
 "nbformat_minor": 5
}
