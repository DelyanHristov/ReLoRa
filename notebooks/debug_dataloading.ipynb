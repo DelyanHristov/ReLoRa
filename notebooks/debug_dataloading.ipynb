{
 "cells": [
  {
   "cell_type": "code",
   "execution_count": 1,
   "id": "0fb0896d-c5ea-4a91-a5af-2206e057380c",
   "metadata": {
    "tags": []
   },
   "outputs": [],
   "source": [
    "from peft_pretraining.megatron_dataset import data_utils\n",
    "from peft_pretraining.megatron_dataset.arguments import NeoXArgs"
   ]
  },
  {
   "cell_type": "code",
   "execution_count": 2,
   "id": "80ca8e2b-8dff-4c03-8228-3de497ff2ab3",
   "metadata": {
    "tags": []
   },
   "outputs": [
    {
     "name": "stdout",
     "output_type": "stream",
     "text": [
      "NeoXArgs.from_ymls() ['../configs/pile_megatron_dataset.yaml']\n"
     ]
    }
   ],
   "source": [
    "args = NeoXArgs.from_ymls([\"../configs/pile_megatron_dataset.yaml\"])"
   ]
  },
  {
   "cell_type": "code",
   "execution_count": 3,
   "id": "5dde67a5-19a6-4c34-b807-dd2d177f9b6f",
   "metadata": {
    "tags": []
   },
   "outputs": [
    {
     "name": "stderr",
     "output_type": "stream",
     "text": [
      "\u001b[32m2023-08-04 17:27:16.013\u001b[0m | \u001b[1mINFO    \u001b[0m | \u001b[36mpeft_pretraining.megatron_dataset.data_utils\u001b[0m:\u001b[36mbuild_train_valid_test_dataloaders\u001b[0m:\u001b[36m313\u001b[0m - \u001b[1m> building train, validation, and test datasets ...\u001b[0m\n",
      "\u001b[32m2023-08-04 17:27:16.019\u001b[0m | \u001b[1mINFO    \u001b[0m | \u001b[36mpeft_pretraining.megatron_dataset.indexed_dataset\u001b[0m:\u001b[36m__init__\u001b[0m:\u001b[36m427\u001b[0m - \u001b[1m    reading sizes...\u001b[0m\n",
      "\u001b[32m2023-08-04 17:27:16.020\u001b[0m | \u001b[1mINFO    \u001b[0m | \u001b[36mpeft_pretraining.megatron_dataset.indexed_dataset\u001b[0m:\u001b[36m__init__\u001b[0m:\u001b[36m431\u001b[0m - \u001b[1m    reading pointers...\u001b[0m\n",
      "\u001b[32m2023-08-04 17:27:16.021\u001b[0m | \u001b[1mINFO    \u001b[0m | \u001b[36mpeft_pretraining.megatron_dataset.indexed_dataset\u001b[0m:\u001b[36m__init__\u001b[0m:\u001b[36m438\u001b[0m - \u001b[1m    reading document index...\u001b[0m\n",
      "\u001b[32m2023-08-04 17:27:16.021\u001b[0m | \u001b[1mINFO    \u001b[0m | \u001b[36mpeft_pretraining.megatron_dataset.indexed_dataset\u001b[0m:\u001b[36m_do_init\u001b[0m:\u001b[36m491\u001b[0m - \u001b[1m    creating numpy buffer of mmap...\u001b[0m\n",
      "\u001b[32m2023-08-04 17:27:16.022\u001b[0m | \u001b[1mINFO    \u001b[0m | \u001b[36mpeft_pretraining.megatron_dataset.indexed_dataset\u001b[0m:\u001b[36m_do_init\u001b[0m:\u001b[36m495\u001b[0m - \u001b[1m    creating memory view of numpy buffer...\u001b[0m\n",
      "\u001b[32m2023-08-04 17:27:16.023\u001b[0m | \u001b[1mINFO    \u001b[0m | \u001b[36mpeft_pretraining.megatron_dataset.data_utils\u001b[0m:\u001b[36mbuild_the_dataset\u001b[0m:\u001b[36m85\u001b[0m - \u001b[1m    train_0:\u001b[0m\n",
      "\u001b[32m2023-08-04 17:27:16.023\u001b[0m | \u001b[1mINFO    \u001b[0m | \u001b[36mpeft_pretraining.megatron_dataset.data_utils\u001b[0m:\u001b[36mbuild_the_dataset\u001b[0m:\u001b[36m86\u001b[0m - \u001b[1m     no. of documents:210604984\u001b[0m\n",
      "\u001b[32m2023-08-04 17:27:19.630\u001b[0m | \u001b[1mINFO    \u001b[0m | \u001b[36mpeft_pretraining.megatron_dataset.dataset\u001b[0m:\u001b[36m_build_index_mappings\u001b[0m:\u001b[36m229\u001b[0m - \u001b[1m > loading doc-idx mapping from /fsx/pile/pile_20B_tokenizer_text_document_train_0_indexmap_1177313280ns_2048sl_1234s_doc_idx.npy\u001b[0m\n",
      "\u001b[32m2023-08-04 17:27:19.638\u001b[0m | \u001b[1mINFO    \u001b[0m | \u001b[36mpeft_pretraining.megatron_dataset.dataset\u001b[0m:\u001b[36m_build_index_mappings\u001b[0m:\u001b[36m231\u001b[0m - \u001b[1m > loading sample-idx mapping from /fsx/pile/pile_20B_tokenizer_text_document_train_0_indexmap_1177313280ns_2048sl_1234s_sample_idx.npy\u001b[0m\n",
      "\u001b[32m2023-08-04 17:27:19.642\u001b[0m | \u001b[1mINFO    \u001b[0m | \u001b[36mpeft_pretraining.megatron_dataset.dataset\u001b[0m:\u001b[36m_build_index_mappings\u001b[0m:\u001b[36m233\u001b[0m - \u001b[1m > loading shuffle-idx mapping from /fsx/pile/pile_20B_tokenizer_text_document_train_0_indexmap_1177313280ns_2048sl_1234s_shuffle_idx.npy\u001b[0m\n",
      "\u001b[32m2023-08-04 17:27:19.646\u001b[0m | \u001b[1mINFO    \u001b[0m | \u001b[36mpeft_pretraining.megatron_dataset.dataset\u001b[0m:\u001b[36m_build_index_mappings\u001b[0m:\u001b[36m235\u001b[0m - \u001b[1m    loaded indexed file in 0.016 seconds\u001b[0m\n",
      "\u001b[32m2023-08-04 17:27:19.647\u001b[0m | \u001b[1mINFO    \u001b[0m | \u001b[36mpeft_pretraining.megatron_dataset.dataset\u001b[0m:\u001b[36m_build_index_mappings\u001b[0m:\u001b[36m238\u001b[0m - \u001b[1m    total number of samples: 1297325491\u001b[0m\n",
      "\u001b[32m2023-08-04 17:27:19.647\u001b[0m | \u001b[1mINFO    \u001b[0m | \u001b[36mpeft_pretraining.megatron_dataset.dataset\u001b[0m:\u001b[36m_build_index_mappings\u001b[0m:\u001b[36m239\u001b[0m - \u001b[1m    total number of epochs: 8\u001b[0m\n",
      "\u001b[32m2023-08-04 17:27:19.653\u001b[0m | \u001b[1mINFO    \u001b[0m | \u001b[36mpeft_pretraining.megatron_dataset.indexed_dataset\u001b[0m:\u001b[36m__init__\u001b[0m:\u001b[36m427\u001b[0m - \u001b[1m    reading sizes...\u001b[0m\n",
      "\u001b[32m2023-08-04 17:27:19.654\u001b[0m | \u001b[1mINFO    \u001b[0m | \u001b[36mpeft_pretraining.megatron_dataset.indexed_dataset\u001b[0m:\u001b[36m__init__\u001b[0m:\u001b[36m431\u001b[0m - \u001b[1m    reading pointers...\u001b[0m\n",
      "\u001b[32m2023-08-04 17:27:19.654\u001b[0m | \u001b[1mINFO    \u001b[0m | \u001b[36mpeft_pretraining.megatron_dataset.indexed_dataset\u001b[0m:\u001b[36m__init__\u001b[0m:\u001b[36m438\u001b[0m - \u001b[1m    reading document index...\u001b[0m\n",
      "\u001b[32m2023-08-04 17:27:19.655\u001b[0m | \u001b[1mINFO    \u001b[0m | \u001b[36mpeft_pretraining.megatron_dataset.indexed_dataset\u001b[0m:\u001b[36m_do_init\u001b[0m:\u001b[36m491\u001b[0m - \u001b[1m    creating numpy buffer of mmap...\u001b[0m\n",
      "\u001b[32m2023-08-04 17:27:19.655\u001b[0m | \u001b[1mINFO    \u001b[0m | \u001b[36mpeft_pretraining.megatron_dataset.indexed_dataset\u001b[0m:\u001b[36m_do_init\u001b[0m:\u001b[36m495\u001b[0m - \u001b[1m    creating memory view of numpy buffer...\u001b[0m\n",
      "\u001b[32m2023-08-04 17:27:19.656\u001b[0m | \u001b[1mINFO    \u001b[0m | \u001b[36mpeft_pretraining.megatron_dataset.data_utils\u001b[0m:\u001b[36mbuild_the_dataset\u001b[0m:\u001b[36m85\u001b[0m - \u001b[1m    valid_0:\u001b[0m\n",
      "\u001b[32m2023-08-04 17:27:19.656\u001b[0m | \u001b[1mINFO    \u001b[0m | \u001b[36mpeft_pretraining.megatron_dataset.data_utils\u001b[0m:\u001b[36mbuild_the_dataset\u001b[0m:\u001b[36m86\u001b[0m - \u001b[1m     no. of documents:210604984\u001b[0m\n",
      "\u001b[32m2023-08-04 17:27:21.865\u001b[0m | \u001b[1mINFO    \u001b[0m | \u001b[36mpeft_pretraining.megatron_dataset.dataset\u001b[0m:\u001b[36m_build_index_mappings\u001b[0m:\u001b[36m229\u001b[0m - \u001b[1m > loading doc-idx mapping from /fsx/pile/pile_20B_tokenizer_text_document_valid_0_indexmap_118554624ns_2048sl_1234s_doc_idx.npy\u001b[0m\n",
      "\u001b[32m2023-08-04 17:27:21.869\u001b[0m | \u001b[1mINFO    \u001b[0m | \u001b[36mpeft_pretraining.megatron_dataset.dataset\u001b[0m:\u001b[36m_build_index_mappings\u001b[0m:\u001b[36m231\u001b[0m - \u001b[1m > loading sample-idx mapping from /fsx/pile/pile_20B_tokenizer_text_document_valid_0_indexmap_118554624ns_2048sl_1234s_sample_idx.npy\u001b[0m\n",
      "\u001b[32m2023-08-04 17:27:21.873\u001b[0m | \u001b[1mINFO    \u001b[0m | \u001b[36mpeft_pretraining.megatron_dataset.dataset\u001b[0m:\u001b[36m_build_index_mappings\u001b[0m:\u001b[36m233\u001b[0m - \u001b[1m > loading shuffle-idx mapping from /fsx/pile/pile_20B_tokenizer_text_document_valid_0_indexmap_118554624ns_2048sl_1234s_shuffle_idx.npy\u001b[0m\n",
      "\u001b[32m2023-08-04 17:27:21.877\u001b[0m | \u001b[1mINFO    \u001b[0m | \u001b[36mpeft_pretraining.megatron_dataset.dataset\u001b[0m:\u001b[36m_build_index_mappings\u001b[0m:\u001b[36m235\u001b[0m - \u001b[1m    loaded indexed file in 0.012 seconds\u001b[0m\n",
      "\u001b[32m2023-08-04 17:27:21.878\u001b[0m | \u001b[1mINFO    \u001b[0m | \u001b[36mpeft_pretraining.megatron_dataset.dataset\u001b[0m:\u001b[36m_build_index_mappings\u001b[0m:\u001b[36m238\u001b[0m - \u001b[1m    total number of samples: 162165687\u001b[0m\n",
      "\u001b[32m2023-08-04 17:27:21.879\u001b[0m | \u001b[1mINFO    \u001b[0m | \u001b[36mpeft_pretraining.megatron_dataset.dataset\u001b[0m:\u001b[36m_build_index_mappings\u001b[0m:\u001b[36m239\u001b[0m - \u001b[1m    total number of epochs: 1\u001b[0m\n",
      "\u001b[32m2023-08-04 17:27:21.882\u001b[0m | \u001b[1mINFO    \u001b[0m | \u001b[36mpeft_pretraining.megatron_dataset.indexed_dataset\u001b[0m:\u001b[36m__init__\u001b[0m:\u001b[36m427\u001b[0m - \u001b[1m    reading sizes...\u001b[0m\n",
      "\u001b[32m2023-08-04 17:27:21.883\u001b[0m | \u001b[1mINFO    \u001b[0m | \u001b[36mpeft_pretraining.megatron_dataset.indexed_dataset\u001b[0m:\u001b[36m__init__\u001b[0m:\u001b[36m431\u001b[0m - \u001b[1m    reading pointers...\u001b[0m\n",
      "\u001b[32m2023-08-04 17:27:21.884\u001b[0m | \u001b[1mINFO    \u001b[0m | \u001b[36mpeft_pretraining.megatron_dataset.indexed_dataset\u001b[0m:\u001b[36m__init__\u001b[0m:\u001b[36m438\u001b[0m - \u001b[1m    reading document index...\u001b[0m\n",
      "\u001b[32m2023-08-04 17:27:21.884\u001b[0m | \u001b[1mINFO    \u001b[0m | \u001b[36mpeft_pretraining.megatron_dataset.indexed_dataset\u001b[0m:\u001b[36m_do_init\u001b[0m:\u001b[36m491\u001b[0m - \u001b[1m    creating numpy buffer of mmap...\u001b[0m\n",
      "\u001b[32m2023-08-04 17:27:21.885\u001b[0m | \u001b[1mINFO    \u001b[0m | \u001b[36mpeft_pretraining.megatron_dataset.indexed_dataset\u001b[0m:\u001b[36m_do_init\u001b[0m:\u001b[36m495\u001b[0m - \u001b[1m    creating memory view of numpy buffer...\u001b[0m\n",
      "\u001b[32m2023-08-04 17:27:21.886\u001b[0m | \u001b[1mINFO    \u001b[0m | \u001b[36mpeft_pretraining.megatron_dataset.data_utils\u001b[0m:\u001b[36mbuild_the_dataset\u001b[0m:\u001b[36m85\u001b[0m - \u001b[1m    test_0:\u001b[0m\n",
      "\u001b[32m2023-08-04 17:27:21.886\u001b[0m | \u001b[1mINFO    \u001b[0m | \u001b[36mpeft_pretraining.megatron_dataset.data_utils\u001b[0m:\u001b[36mbuild_the_dataset\u001b[0m:\u001b[36m86\u001b[0m - \u001b[1m     no. of documents:210604984\u001b[0m\n",
      "\u001b[32m2023-08-04 17:27:24.089\u001b[0m | \u001b[1mINFO    \u001b[0m | \u001b[36mpeft_pretraining.megatron_dataset.dataset\u001b[0m:\u001b[36m_build_index_mappings\u001b[0m:\u001b[36m229\u001b[0m - \u001b[1m > loading doc-idx mapping from /fsx/pile/pile_20B_tokenizer_text_document_test_0_indexmap_823296ns_2048sl_1234s_doc_idx.npy\u001b[0m\n",
      "\u001b[32m2023-08-04 17:27:24.094\u001b[0m | \u001b[1mINFO    \u001b[0m | \u001b[36mpeft_pretraining.megatron_dataset.dataset\u001b[0m:\u001b[36m_build_index_mappings\u001b[0m:\u001b[36m231\u001b[0m - \u001b[1m > loading sample-idx mapping from /fsx/pile/pile_20B_tokenizer_text_document_test_0_indexmap_823296ns_2048sl_1234s_sample_idx.npy\u001b[0m\n",
      "\u001b[32m2023-08-04 17:27:24.098\u001b[0m | \u001b[1mINFO    \u001b[0m | \u001b[36mpeft_pretraining.megatron_dataset.dataset\u001b[0m:\u001b[36m_build_index_mappings\u001b[0m:\u001b[36m233\u001b[0m - \u001b[1m > loading shuffle-idx mapping from /fsx/pile/pile_20B_tokenizer_text_document_test_0_indexmap_823296ns_2048sl_1234s_shuffle_idx.npy\u001b[0m\n",
      "\u001b[32m2023-08-04 17:27:24.101\u001b[0m | \u001b[1mINFO    \u001b[0m | \u001b[36mpeft_pretraining.megatron_dataset.dataset\u001b[0m:\u001b[36m_build_index_mappings\u001b[0m:\u001b[36m235\u001b[0m - \u001b[1m    loaded indexed file in 0.012 seconds\u001b[0m\n",
      "\u001b[32m2023-08-04 17:27:24.102\u001b[0m | \u001b[1mINFO    \u001b[0m | \u001b[36mpeft_pretraining.megatron_dataset.dataset\u001b[0m:\u001b[36m_build_index_mappings\u001b[0m:\u001b[36m238\u001b[0m - \u001b[1m    total number of samples: 162165687\u001b[0m\n",
      "\u001b[32m2023-08-04 17:27:24.102\u001b[0m | \u001b[1mINFO    \u001b[0m | \u001b[36mpeft_pretraining.megatron_dataset.dataset\u001b[0m:\u001b[36m_build_index_mappings\u001b[0m:\u001b[36m239\u001b[0m - \u001b[1m    total number of epochs: 1\u001b[0m\n"
     ]
    },
    {
     "name": "stdout",
     "output_type": "stream",
     "text": [
      "> building indices for blendable datasets ...\n",
      "> RANK 0 elapsed time for building blendable dataset indices: 7.75 (sec)\n"
     ]
    },
    {
     "name": "stderr",
     "output_type": "stream",
     "text": [
      "\u001b[32m2023-08-04 17:27:33.805\u001b[0m | \u001b[33m\u001b[1mWARNING \u001b[0m | \u001b[36mpeft_pretraining.megatron_dataset.data_utils\u001b[0m:\u001b[36mmake_data_loader\u001b[0m:\u001b[36m45\u001b[0m - \u001b[33m\u001b[1mNot using distributed mode. Should only be used for debugging.\u001b[0m\n",
      "\u001b[32m2023-08-04 17:27:33.807\u001b[0m | \u001b[33m\u001b[1mWARNING \u001b[0m | \u001b[36mpeft_pretraining.megatron_dataset.data_utils\u001b[0m:\u001b[36mmake_data_loader\u001b[0m:\u001b[36m45\u001b[0m - \u001b[33m\u001b[1mNot using distributed mode. Should only be used for debugging.\u001b[0m\n",
      "\u001b[32m2023-08-04 17:27:33.809\u001b[0m | \u001b[33m\u001b[1mWARNING \u001b[0m | \u001b[36mpeft_pretraining.megatron_dataset.data_utils\u001b[0m:\u001b[36mmake_data_loader\u001b[0m:\u001b[36m45\u001b[0m - \u001b[33m\u001b[1mNot using distributed mode. Should only be used for debugging.\u001b[0m\n",
      "\u001b[32m2023-08-04 17:27:33.811\u001b[0m | \u001b[1mINFO    \u001b[0m | \u001b[36mpeft_pretraining.megatron_dataset.data_utils\u001b[0m:\u001b[36mbuild_train_valid_test_dataloaders\u001b[0m:\u001b[36m448\u001b[0m - \u001b[1msetting training data start iteration to 0\u001b[0m\n",
      "\u001b[32m2023-08-04 17:27:33.811\u001b[0m | \u001b[1mINFO    \u001b[0m | \u001b[36mpeft_pretraining.megatron_dataset.data_utils\u001b[0m:\u001b[36mbuild_train_valid_test_dataloaders\u001b[0m:\u001b[36m461\u001b[0m - \u001b[1msetting validation data start iteration to 0\u001b[0m\n"
     ]
    },
    {
     "name": "stdout",
     "output_type": "stream",
     "text": [
      "> RANK 0 elapsed time for building blendable dataset indices: 0.97 (sec)\n",
      " > sample ratios:\n",
      "   dataset 0, input: 1, achieved: 1\n",
      "> building indices for blendable datasets ...\n",
      " > sample ratios:\n",
      "   dataset 0, input: 1, achieved: 1\n",
      "> RANK 0 elapsed time for building blendable dataset indices: 0.98 (sec)\n",
      "> building indices for blendable datasets ...\n",
      " > sample ratios:\n",
      "   dataset 0, input: 1, achieved: 1\n"
     ]
    }
   ],
   "source": [
    "train_dataloader, _, _ = data_utils.build_train_valid_test_dataloaders(neox_args=args)"
   ]
  },
  {
   "cell_type": "code",
   "execution_count": 8,
   "id": "f78bd8a1-32d9-469a-b83c-64cafd1920c4",
   "metadata": {},
   "outputs": [],
   "source": [
    "train_iterator = iter(train_dataloader)"
   ]
  },
  {
   "cell_type": "code",
   "execution_count": 9,
   "id": "72139140-b9cb-45ee-98d8-ec5d94d531f7",
   "metadata": {},
   "outputs": [],
   "source": [
    "batch = next(train_iterator)"
   ]
  },
  {
   "cell_type": "code",
   "execution_count": 10,
   "id": "7a4f265b-3e8f-4f00-81ce-916477fa4668",
   "metadata": {},
   "outputs": [
    {
     "data": {
      "text/plain": [
       "(dict, dict_keys(['input_ids']))"
      ]
     },
     "execution_count": 10,
     "metadata": {},
     "output_type": "execute_result"
    }
   ],
   "source": [
    "type(batch), batch.keys()"
   ]
  },
  {
   "cell_type": "code",
   "execution_count": 11,
   "id": "74f06004-4311-43bd-bf1f-bdb164facb99",
   "metadata": {},
   "outputs": [
    {
     "data": {
      "text/plain": [
       "torch.Size([1024, 2049])"
      ]
     },
     "execution_count": 11,
     "metadata": {},
     "output_type": "execute_result"
    }
   ],
   "source": [
    "batch[\"input_ids\"].shape"
   ]
  },
  {
   "cell_type": "code",
   "execution_count": 13,
   "id": "cf16f858-dd7e-4ad2-8739-c0d830a00eb8",
   "metadata": {},
   "outputs": [
    {
     "name": "stdout",
     "output_type": "stream",
     "text": [
      "{'input_ids': tensor([[   32,   187,    14,  ...,  7229,   187,    60],\n",
      "        [   14, 17159,  2255,  ..., 18362,   941,  4973],\n",
      "        [  456,   327,   253,  ..., 32249,   247,  5110],\n",
      "        ...,\n",
      "        [ 4852,   275,  5041,  ...,   187, 15542,   272],\n",
      "        [  281,  3330,   896,  ...,   187, 50274,    94],\n",
      "        [ 2834,   281,  2028,  ...,  5490,   401,  5292]])}\n",
      "{'input_ids': tensor([[  346, 18686,  3255,  ...,  3255,   346,  7745],\n",
      "        [   94,  2490, 50262,  ...,    34,  3853,    18],\n",
      "        [50263, 25328,   426,  ...,  3139,    15,   187],\n",
      "        ...,\n",
      "        [ 2028,   368,   449,  ...,   497,  7487,   479],\n",
      "        [25483,    16, 11300,  ...,  5395,  1008,  2041],\n",
      "        [23403,   273, 14300,  ...,   608,     6,  6392]])}\n"
     ]
    }
   ],
   "source": [
    "for i, batch in enumerate(train_dataloader):\n",
    "    if i > 1: break\n",
    "    print(batch)"
   ]
  },
  {
   "cell_type": "code",
   "execution_count": null,
   "id": "b66a7fc4-6a67-49ae-9b09-b25a8430d6e9",
   "metadata": {},
   "outputs": [],
   "source": []
  }
 ],
 "metadata": {
  "kernelspec": {
   "display_name": "Python 3 (ipykernel)",
   "language": "python",
   "name": "python3"
  },
  "language_info": {
   "codemirror_mode": {
    "name": "ipython",
    "version": 3
   },
   "file_extension": ".py",
   "mimetype": "text/x-python",
   "name": "python",
   "nbconvert_exporter": "python",
   "pygments_lexer": "ipython3",
   "version": "3.10.12"
  }
 },
 "nbformat": 4,
 "nbformat_minor": 5
}
